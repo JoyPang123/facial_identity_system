{
 "cells": [
  {
   "cell_type": "code",
   "execution_count": null,
   "metadata": {
    "id": "VxCH_B9rgFR4"
   },
   "outputs": [],
   "source": [
    "# Download dataset\n",
    "!gdown --id 1iXIqmmQWQO5owW03ZOGIi7fdLCjAe4SI --output CelebA\n",
    "!gdown --id 17it9gGywlyJSYbvkzc3s5mIt2puXcvGq\n",
    "!unzip -q CelebA"
   ]
  },
  {
   "cell_type": "code",
   "execution_count": null,
   "metadata": {
    "id": "9f1QDmSBgWp5"
   },
   "outputs": [],
   "source": [
    "!pip install wandb\n",
    "!wandb login"
   ]
  },
  {
   "cell_type": "code",
   "execution_count": null,
   "metadata": {
    "id": "mi-Wb1HAgZ5X"
   },
   "outputs": [],
   "source": [
    "import random\n",
    "import os\n",
    "\n",
    "import pandas as pd\n",
    "\n",
    "import numpy as np\n",
    "\n",
    "import matplotlib.pyplot as plt\n",
    "\n",
    "from PIL import Image\n",
    "\n",
    "import wandb\n",
    "\n",
    "from tqdm import tqdm\n",
    "\n",
    "from sklearn.decomposition import PCA\n",
    "from sklearn.manifold import TSNE\n",
    "\n",
    "import torch\n",
    "import torch.nn as nn\n",
    "from torch.utils.data import Dataset, DataLoader\n",
    "\n",
    "import torchvision.transforms as transforms\n",
    "import torchvision.models as models"
   ]
  },
  {
   "cell_type": "markdown",
   "metadata": {
    "id": "xjfwtTRWglUx"
   },
   "source": [
    "## Create Model"
   ]
  },
  {
   "cell_type": "code",
   "execution_count": null,
   "metadata": {
    "id": "qxtxFEAOggfr"
   },
   "outputs": [],
   "source": [
    "class BaseModel(nn.Module):\n",
    "    def __init__(self, model_type=\"resnet18\", pretrained=True,\n",
    "                 out_dim=128):\n",
    "        super().__init__()\n",
    "        self.model = getattr(models, model_type)(\n",
    "            pretrained=pretrained\n",
    "        )\n",
    "        self.model.fc = nn.Linear(\n",
    "            self.model.fc.in_features,\n",
    "            out_dim\n",
    "        )\n",
    "\n",
    "    def forward(self, x):\n",
    "        return self.model(x)\n",
    "\n",
    "\n",
    "class TripletNet(nn.Module):\n",
    "    def __init__(self, model_type=\"resnet18\", pretrained=True,\n",
    "                 out_dim=128):\n",
    "        super().__init__()\n",
    "        self.model = BaseModel(\n",
    "            model_type=model_type, pretrained=pretrained,\n",
    "            out_dim=out_dim\n",
    "        )\n",
    "\n",
    "    def forward(self, anchor, positive, negative):\n",
    "        anchor_out = self.model(anchor)\n",
    "        positive_out = self.model(positive)\n",
    "        negative_out = self.model(negative)\n",
    "        return anchor_out, positive_out, negative_out\n",
    "\n",
    "    def get_features(self, x):\n",
    "        return self.model(x)"
   ]
  },
  {
   "cell_type": "markdown",
   "metadata": {
    "id": "ik9DawRIgtwb"
   },
   "source": [
    "## Create Data Augmentation"
   ]
  },
  {
   "cell_type": "code",
   "execution_count": null,
   "metadata": {
    "id": "WT9XnILggmX9"
   },
   "outputs": [],
   "source": [
    "class CelebADataset(Dataset):\n",
    "    def __init__(self, img_root, csv_path, transform=None):\n",
    "        self.img_root = img_root\n",
    "        self.csv = pd.read_csv(csv_path)\n",
    "\n",
    "        self.transform = transforms.Compose([\n",
    "            transforms.Resize(224),\n",
    "            transforms.ToTensor(),\n",
    "            transforms.Normalize(\n",
    "                mean=[0.5, 0.5, 0.5],\n",
    "                std=[0.5, 0.5, 0.5]\n",
    "            )\n",
    "        ]) if transform is None else transform\n",
    "            \n",
    "    def __getitem__(self, idx):\n",
    "        # Read in anchor image and get class\n",
    "        img_name = self.csv.iloc[idx, 0]\n",
    "        anchor_image = Image.open(f\"{self.img_root}/{img_name}\")\n",
    "        label = self.csv.iloc[idx, 1]\n",
    "\n",
    "        # Positive sampling and remove the redundant images and randomly sample from postive\n",
    "        positives = self.csv[self.csv.iloc[:, 1] == label]\n",
    "        positives = positives[positives.iloc[:, 0] != img_name]\n",
    "        positive_frame = positives.sample(n=1)\n",
    "        positive_image = Image.open(f\"{self.img_root}/{positive_frame.iloc[0, 0]}\")\n",
    "\n",
    "        #choose negative data by taking random sampling except that particular class\n",
    "        negatives = self.csv[self.csv.iloc[:, 1] != label]\n",
    "        negative_frame = negatives.sample(n=1)\n",
    "        negative_image = Image.open(f\"{self.img_root}/{negative_frame.iloc[0, 0]}\")\n",
    "        \n",
    "        if self.transform:\n",
    "            anchor_image = self.transform(anchor_image)\n",
    "            positive_image = self.transform(positive_image)\n",
    "            negative_image = self.transform(negative_image)\n",
    "       \n",
    "        return {\n",
    "            \"anchor\": anchor_image,\n",
    "            \"positive_image\": positive_image,\n",
    "            \"negative_image\": negative_image\n",
    "        }\n",
    "    \n",
    "    def __len__(self):\n",
    "        return len(self.csv)"
   ]
  },
  {
   "cell_type": "code",
   "execution_count": null,
   "metadata": {
    "id": "r2TgR8G9gwcB"
   },
   "outputs": [],
   "source": [
    "def make_loader(batch_size, img_root, csv_path):\n",
    "    train_dataset = CelebADataset(\n",
    "        img_root=img_root, csv_path=csv_path\n",
    "    )\n",
    "\n",
    "    train_loader = DataLoader(\n",
    "        dataset=train_dataset, batch_size=batch_size,\n",
    "        shuffle=True, pin_memory=True,\n",
    "    )\n",
    "\n",
    "    return train_loader"
   ]
  },
  {
   "cell_type": "markdown",
   "metadata": {
    "id": "KDqTcoJhhCDW"
   },
   "source": [
    "## Create loss function"
   ]
  },
  {
   "cell_type": "code",
   "execution_count": null,
   "metadata": {
    "id": "JsLWa1nRgwpf"
   },
   "outputs": [],
   "source": [
    "class TripletLoss(nn.Module):\n",
    "    def __init__(self, margin):\n",
    "        super().__init__()\n",
    "        self.margin = margin\n",
    "\n",
    "    def forward(self, anchor, positive, negative):\n",
    "        distance_positive = ((anchor - positive)**2).sum(axis=0)  \n",
    "        distance_negative = ((anchor - negative)**2).sum(axis=0) \n",
    "        losses = torch.relu(distance_positive - distance_negative + self.margin)\n",
    "     \n",
    "        return losses.mean()\n"
   ]
  },
  {
   "cell_type": "markdown",
   "metadata": {
    "id": "8A6GS7VdhGlw"
   },
   "source": [
    "## Visualization tools"
   ]
  },
  {
   "cell_type": "code",
   "execution_count": null,
   "metadata": {
    "id": "DIlBdb8AhC_L"
   },
   "outputs": [],
   "source": [
    "@torch.no_grad()\n",
    "def plot_points(model, device, img_root, num_points=10):\n",
    "    model.eval()\n",
    "    \n",
    "    # Choose points\n",
    "    dirs = os.listdir(img_root)\n",
    "    plot_image_list = random.choices(dirs, k=num_points)\n",
    "    base_transform = transforms.Compose([\n",
    "        transforms.ToTensor(),\n",
    "        transforms.Resize(224),\n",
    "        transforms.Normalize(\n",
    "            mean=[0.5, 0.5, 0.5],\n",
    "            std=[0.5, 0.5, 0.5]\n",
    "        )\n",
    "    ])\n",
    "\n",
    "    # Get features from the list\n",
    "    features_list = []\n",
    "    for img_name in plot_image_list:\n",
    "        img = Image.open(os.path.join(img_root, img_name))\n",
    "        img = base_transform(img).unsqueeze(0).to(device)\n",
    "        features = features_list.append(model.get_features(img).cpu()[0].tolist())\n",
    "\n",
    "    # Do the dimension reduction\n",
    "    two_dim_pca = PCA(n_components=2).fit_transform(features_list)\n",
    "    two_dim_tsne = TSNE(n_components=2).fit_transform(features_list)\n",
    "\n",
    "    # Show plot\n",
    "    fig = plt.figure(figsize=(12, 6))\n",
    "    ax1 = fig.add_subplot(1, 2, 1)\n",
    "    ax1.set_title(\"PCA\")\n",
    "    ax1.scatter(two_dim_pca[:, 0], two_dim_pca[:, 1], c=list(range(num_points)))\n",
    "    ax2 = fig.add_subplot(1, 2, 2)\n",
    "    ax2.set_title(\"TSNE\")\n",
    "    ax2.scatter(two_dim_tsne[:, 0], two_dim_tsne[:, 1], c=list(range(num_points)))\n",
    "    \n",
    "    return fig"
   ]
  },
  {
   "cell_type": "markdown",
   "metadata": {
    "id": "rlr2QNTshMrG"
   },
   "source": [
    "## Train function"
   ]
  },
  {
   "cell_type": "code",
   "execution_count": null,
   "metadata": {
    "id": "i3xDN7IEhIvn"
   },
   "outputs": [],
   "source": [
    "def train(args):\n",
    "    os.makedirs(args.weight, exist_ok=True)\n",
    "    \n",
    "    model_config = {\n",
    "        \"batch_size\": args.batch_size,\n",
    "        \"learning rate\": args.lr,\n",
    "    }\n",
    "    run = wandb.init(\n",
    "        project=\"facial_identity\",\n",
    "        resume=False,\n",
    "        config=model_config,\n",
    "    )\n",
    "\n",
    "    device = torch.device(\"cuda:0\" if torch.cuda.is_available() else \"cpu\")\n",
    "    print(device)\n",
    "\n",
    "    train_loader = make_loader(\n",
    "        batch_size=args.batch_size, img_root=args.img_root,\n",
    "        csv_path=args.csv_path\n",
    "    )\n",
    "\n",
    "    model = TripletNet(\n",
    "        model_type=args.model_type, pretrained=args.pretrained,\n",
    "        out_dim=args.out_dim\n",
    "    ).to(device)\n",
    "\n",
    "    pair_dis = nn.PairwiseDistance()\n",
    "\n",
    "    # Set up hyper-parameters\n",
    "    criterion = TripletLoss(args.margin)\n",
    "    optimizer = torch.optim.Adam(model.parameters(), lr=args.lr)\n",
    "    scheduler = torch.optim.lr_scheduler.StepLR(optimizer, 8, gamma=0.1, last_epoch=-1)\n",
    "\n",
    "    for epoch in range(args.epochs):\n",
    "        epoch_loss = 0\n",
    "\n",
    "        tqdm_iter = tqdm(\n",
    "            train_loader,\n",
    "            bar_format=\"{l_bar}|{bar}| {n_fmt}/{total_fmt} [{rate_fmt}{postfix}|{elapsed}<{remaining}]\"\n",
    "        )\n",
    "\n",
    "        for idx, batched_data in enumerate(tqdm_iter):\n",
    "            model.train()\n",
    "\n",
    "            # Get data and move to device\n",
    "            input_anchor = batched_data[\"anchor\"].to(device)\n",
    "            input_positive = batched_data[\"positive_image\"].to(device)\n",
    "            input_negative = batched_data[\"negative_image\"].to(device)\n",
    "\n",
    "            anchor, pos, neg = model(input_anchor, input_positive, input_negative)\n",
    "\n",
    "            # Compute l2 distance of the model\n",
    "            pos_dists = pair_dis(anchor, pos)\n",
    "            neg_dists = pair_dis(anchor, neg)\n",
    "\n",
    "            all_image = (neg_dists - pos_dists < args.margin).cpu().numpy().flatten()\n",
    "            valid_triplets = np.where(all_image == 1)\n",
    "\n",
    "            # Compute loss\n",
    "            loss = criterion(anchor[valid_triplets], pos[valid_triplets], neg[valid_triplets])\n",
    "\n",
    "            # Update models\n",
    "            optimizer.zero_grad()\n",
    "            loss.backward()\n",
    "            optimizer.step()\n",
    "\n",
    "            # Update the progress bar\n",
    "            tqdm_iter.set_description(f\"Epoch: {epoch + 1}\")\n",
    "            tqdm_iter.set_postfix_str(f\"loss={loss.item():^7.3f}\")\n",
    "\n",
    "            # Update scheduler\n",
    "            scheduler.step()\n",
    "\n",
    "            if idx % 10 == 0:\n",
    "                log = {\n",
    "                    \"loss\": epoch_loss / len(tqdm_iter),\n",
    "                    \"Image\": plot_points(model, img_root=args.img_root, device=device, num_points=1000)\n",
    "                }\n",
    "                wandb.log(log)\n",
    "\n",
    "        # Save the model for every epoch\n",
    "        torch.save(model.state_dict(), f\"{args.weight}/model_{epoch + 1}.pt\")"
   ]
  },
  {
   "cell_type": "markdown",
   "metadata": {
    "id": "f9LhVdZThx0U"
   },
   "source": [
    "## Set up Config"
   ]
  },
  {
   "cell_type": "code",
   "execution_count": null,
   "metadata": {
    "id": "LBkQ-UoHhQwN"
   },
   "outputs": [],
   "source": [
    "class Config:\n",
    "    # Path\n",
    "    csv_path = \"identity.csv\"\n",
    "    img_root = \"img_align_celeba\"\n",
    "    weight = \"weight\"\n",
    "\n",
    "    # Hyper-parameters\n",
    "    batch_size = 64\n",
    "    epochs = 5\n",
    "    lr = 1e-4\n",
    "\n",
    "    # Model settings\n",
    "    model_type = \"resnet18\"\n",
    "    pretrained = True\n",
    "    out_dim = 128\n",
    "    margin = 0.5"
   ]
  },
  {
   "cell_type": "markdown",
   "metadata": {
    "id": "6ZT9JywPhwlA"
   },
   "source": [
    "## Start training"
   ]
  },
  {
   "cell_type": "code",
   "execution_count": null,
   "metadata": {
    "colab": {
     "base_uri": "https://localhost:8080/",
     "height": 134,
     "referenced_widgets": [
      "e83f5707888e496fa218fc579b5deda3",
      "df2c7d2cb79049a182e90126a81f95aa",
      "437c0f29e07d45c4b8674efa70769264",
      "d49ca8316e834ea4a51a6685d2da067a",
      "44f16bd7d7dc47f09521a4c1908d533c",
      "616cc982a8d345679b544ce94c3fe19d",
      "c28feb9b5957442c81ed03ef959ca115",
      "65933b4233b44bd9b1786337384097b3",
      "e457d604f16f4b958958d42783b45690",
      "570499975706432b87de5a22ab628751",
      "8df80b207f424009b7aef41785367d07"
     ]
    },
    "id": "I7lvZHTahudj",
    "outputId": "36985472-bb62-47f4-e94a-cca9c5690456"
   },
   "outputs": [],
   "source": [
    "args = Config()\n",
    "train(args)"
   ]
  },
  {
   "cell_type": "code",
   "execution_count": null,
   "metadata": {
    "id": "jphUT8mXhzLA"
   },
   "outputs": [],
   "source": []
  }
 ],
 "metadata": {
  "accelerator": "GPU",
  "colab": {
   "collapsed_sections": [],
   "name": "triplet.ipynb",
   "provenance": []
  },
  "kernelspec": {
   "display_name": "Python 3",
   "language": "python",
   "name": "python3"
  },
  "language_info": {
   "codemirror_mode": {
    "name": "ipython",
    "version": 3
   },
   "file_extension": ".py",
   "mimetype": "text/x-python",
   "name": "python",
   "nbconvert_exporter": "python",
   "pygments_lexer": "ipython3",
   "version": "3.7.6"
  },
  "widgets": {
   "application/vnd.jupyter.widget-state+json": {
    "437c0f29e07d45c4b8674efa70769264": {
     "model_module": "@jupyter-widgets/controls",
     "model_module_version": "1.5.0",
     "model_name": "HTMLModel",
     "state": {
      "_dom_classes": [],
      "_model_module": "@jupyter-widgets/controls",
      "_model_module_version": "1.5.0",
      "_model_name": "HTMLModel",
      "_view_count": null,
      "_view_module": "@jupyter-widgets/controls",
      "_view_module_version": "1.5.0",
      "_view_name": "HTMLView",
      "description": "",
      "description_tooltip": null,
      "layout": "IPY_MODEL_c28feb9b5957442c81ed03ef959ca115",
      "placeholder": "​",
      "style": "IPY_MODEL_616cc982a8d345679b544ce94c3fe19d",
      "value": "100%"
     }
    },
    "44f16bd7d7dc47f09521a4c1908d533c": {
     "model_module": "@jupyter-widgets/controls",
     "model_module_version": "1.5.0",
     "model_name": "HTMLModel",
     "state": {
      "_dom_classes": [],
      "_model_module": "@jupyter-widgets/controls",
      "_model_module_version": "1.5.0",
      "_model_name": "HTMLModel",
      "_view_count": null,
      "_view_module": "@jupyter-widgets/controls",
      "_view_module_version": "1.5.0",
      "_view_name": "HTMLView",
      "description": "",
      "description_tooltip": null,
      "layout": "IPY_MODEL_8df80b207f424009b7aef41785367d07",
      "placeholder": "​",
      "style": "IPY_MODEL_570499975706432b87de5a22ab628751",
      "value": " 44.7M/44.7M [00:00&lt;00:00, 103MB/s]"
     }
    },
    "570499975706432b87de5a22ab628751": {
     "model_module": "@jupyter-widgets/controls",
     "model_module_version": "1.5.0",
     "model_name": "DescriptionStyleModel",
     "state": {
      "_model_module": "@jupyter-widgets/controls",
      "_model_module_version": "1.5.0",
      "_model_name": "DescriptionStyleModel",
      "_view_count": null,
      "_view_module": "@jupyter-widgets/base",
      "_view_module_version": "1.2.0",
      "_view_name": "StyleView",
      "description_width": ""
     }
    },
    "616cc982a8d345679b544ce94c3fe19d": {
     "model_module": "@jupyter-widgets/controls",
     "model_module_version": "1.5.0",
     "model_name": "DescriptionStyleModel",
     "state": {
      "_model_module": "@jupyter-widgets/controls",
      "_model_module_version": "1.5.0",
      "_model_name": "DescriptionStyleModel",
      "_view_count": null,
      "_view_module": "@jupyter-widgets/base",
      "_view_module_version": "1.2.0",
      "_view_name": "StyleView",
      "description_width": ""
     }
    },
    "65933b4233b44bd9b1786337384097b3": {
     "model_module": "@jupyter-widgets/controls",
     "model_module_version": "1.5.0",
     "model_name": "ProgressStyleModel",
     "state": {
      "_model_module": "@jupyter-widgets/controls",
      "_model_module_version": "1.5.0",
      "_model_name": "ProgressStyleModel",
      "_view_count": null,
      "_view_module": "@jupyter-widgets/base",
      "_view_module_version": "1.2.0",
      "_view_name": "StyleView",
      "bar_color": null,
      "description_width": ""
     }
    },
    "8df80b207f424009b7aef41785367d07": {
     "model_module": "@jupyter-widgets/base",
     "model_module_version": "1.2.0",
     "model_name": "LayoutModel",
     "state": {
      "_model_module": "@jupyter-widgets/base",
      "_model_module_version": "1.2.0",
      "_model_name": "LayoutModel",
      "_view_count": null,
      "_view_module": "@jupyter-widgets/base",
      "_view_module_version": "1.2.0",
      "_view_name": "LayoutView",
      "align_content": null,
      "align_items": null,
      "align_self": null,
      "border": null,
      "bottom": null,
      "display": null,
      "flex": null,
      "flex_flow": null,
      "grid_area": null,
      "grid_auto_columns": null,
      "grid_auto_flow": null,
      "grid_auto_rows": null,
      "grid_column": null,
      "grid_gap": null,
      "grid_row": null,
      "grid_template_areas": null,
      "grid_template_columns": null,
      "grid_template_rows": null,
      "height": null,
      "justify_content": null,
      "justify_items": null,
      "left": null,
      "margin": null,
      "max_height": null,
      "max_width": null,
      "min_height": null,
      "min_width": null,
      "object_fit": null,
      "object_position": null,
      "order": null,
      "overflow": null,
      "overflow_x": null,
      "overflow_y": null,
      "padding": null,
      "right": null,
      "top": null,
      "visibility": null,
      "width": null
     }
    },
    "c28feb9b5957442c81ed03ef959ca115": {
     "model_module": "@jupyter-widgets/base",
     "model_module_version": "1.2.0",
     "model_name": "LayoutModel",
     "state": {
      "_model_module": "@jupyter-widgets/base",
      "_model_module_version": "1.2.0",
      "_model_name": "LayoutModel",
      "_view_count": null,
      "_view_module": "@jupyter-widgets/base",
      "_view_module_version": "1.2.0",
      "_view_name": "LayoutView",
      "align_content": null,
      "align_items": null,
      "align_self": null,
      "border": null,
      "bottom": null,
      "display": null,
      "flex": null,
      "flex_flow": null,
      "grid_area": null,
      "grid_auto_columns": null,
      "grid_auto_flow": null,
      "grid_auto_rows": null,
      "grid_column": null,
      "grid_gap": null,
      "grid_row": null,
      "grid_template_areas": null,
      "grid_template_columns": null,
      "grid_template_rows": null,
      "height": null,
      "justify_content": null,
      "justify_items": null,
      "left": null,
      "margin": null,
      "max_height": null,
      "max_width": null,
      "min_height": null,
      "min_width": null,
      "object_fit": null,
      "object_position": null,
      "order": null,
      "overflow": null,
      "overflow_x": null,
      "overflow_y": null,
      "padding": null,
      "right": null,
      "top": null,
      "visibility": null,
      "width": null
     }
    },
    "d49ca8316e834ea4a51a6685d2da067a": {
     "model_module": "@jupyter-widgets/controls",
     "model_module_version": "1.5.0",
     "model_name": "FloatProgressModel",
     "state": {
      "_dom_classes": [],
      "_model_module": "@jupyter-widgets/controls",
      "_model_module_version": "1.5.0",
      "_model_name": "FloatProgressModel",
      "_view_count": null,
      "_view_module": "@jupyter-widgets/controls",
      "_view_module_version": "1.5.0",
      "_view_name": "ProgressView",
      "bar_style": "success",
      "description": "",
      "description_tooltip": null,
      "layout": "IPY_MODEL_e457d604f16f4b958958d42783b45690",
      "max": 46830571,
      "min": 0,
      "orientation": "horizontal",
      "style": "IPY_MODEL_65933b4233b44bd9b1786337384097b3",
      "value": 46830571
     }
    },
    "df2c7d2cb79049a182e90126a81f95aa": {
     "model_module": "@jupyter-widgets/base",
     "model_module_version": "1.2.0",
     "model_name": "LayoutModel",
     "state": {
      "_model_module": "@jupyter-widgets/base",
      "_model_module_version": "1.2.0",
      "_model_name": "LayoutModel",
      "_view_count": null,
      "_view_module": "@jupyter-widgets/base",
      "_view_module_version": "1.2.0",
      "_view_name": "LayoutView",
      "align_content": null,
      "align_items": null,
      "align_self": null,
      "border": null,
      "bottom": null,
      "display": null,
      "flex": null,
      "flex_flow": null,
      "grid_area": null,
      "grid_auto_columns": null,
      "grid_auto_flow": null,
      "grid_auto_rows": null,
      "grid_column": null,
      "grid_gap": null,
      "grid_row": null,
      "grid_template_areas": null,
      "grid_template_columns": null,
      "grid_template_rows": null,
      "height": null,
      "justify_content": null,
      "justify_items": null,
      "left": null,
      "margin": null,
      "max_height": null,
      "max_width": null,
      "min_height": null,
      "min_width": null,
      "object_fit": null,
      "object_position": null,
      "order": null,
      "overflow": null,
      "overflow_x": null,
      "overflow_y": null,
      "padding": null,
      "right": null,
      "top": null,
      "visibility": null,
      "width": null
     }
    },
    "e457d604f16f4b958958d42783b45690": {
     "model_module": "@jupyter-widgets/base",
     "model_module_version": "1.2.0",
     "model_name": "LayoutModel",
     "state": {
      "_model_module": "@jupyter-widgets/base",
      "_model_module_version": "1.2.0",
      "_model_name": "LayoutModel",
      "_view_count": null,
      "_view_module": "@jupyter-widgets/base",
      "_view_module_version": "1.2.0",
      "_view_name": "LayoutView",
      "align_content": null,
      "align_items": null,
      "align_self": null,
      "border": null,
      "bottom": null,
      "display": null,
      "flex": null,
      "flex_flow": null,
      "grid_area": null,
      "grid_auto_columns": null,
      "grid_auto_flow": null,
      "grid_auto_rows": null,
      "grid_column": null,
      "grid_gap": null,
      "grid_row": null,
      "grid_template_areas": null,
      "grid_template_columns": null,
      "grid_template_rows": null,
      "height": null,
      "justify_content": null,
      "justify_items": null,
      "left": null,
      "margin": null,
      "max_height": null,
      "max_width": null,
      "min_height": null,
      "min_width": null,
      "object_fit": null,
      "object_position": null,
      "order": null,
      "overflow": null,
      "overflow_x": null,
      "overflow_y": null,
      "padding": null,
      "right": null,
      "top": null,
      "visibility": null,
      "width": null
     }
    },
    "e83f5707888e496fa218fc579b5deda3": {
     "model_module": "@jupyter-widgets/controls",
     "model_module_version": "1.5.0",
     "model_name": "HBoxModel",
     "state": {
      "_dom_classes": [],
      "_model_module": "@jupyter-widgets/controls",
      "_model_module_version": "1.5.0",
      "_model_name": "HBoxModel",
      "_view_count": null,
      "_view_module": "@jupyter-widgets/controls",
      "_view_module_version": "1.5.0",
      "_view_name": "HBoxView",
      "box_style": "",
      "children": [
       "IPY_MODEL_437c0f29e07d45c4b8674efa70769264",
       "IPY_MODEL_d49ca8316e834ea4a51a6685d2da067a",
       "IPY_MODEL_44f16bd7d7dc47f09521a4c1908d533c"
      ],
      "layout": "IPY_MODEL_df2c7d2cb79049a182e90126a81f95aa"
     }
    }
   }
  }
 },
 "nbformat": 4,
 "nbformat_minor": 1
}